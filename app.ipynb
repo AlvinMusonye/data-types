{
 "cells": [
  {
   "cell_type": "code",
   "execution_count": 1,
   "metadata": {},
   "outputs": [
    {
     "name": "stdout",
     "output_type": "stream",
     "text": [
      "Hello\n"
     ]
    }
   ],
   "source": [
    "print (\"Hello\")"
   ]
  },
  {
   "cell_type": "code",
   "execution_count": 2,
   "metadata": {},
   "outputs": [
    {
     "name": "stdout",
     "output_type": "stream",
     "text": [
      "6\n"
     ]
    }
   ],
   "source": [
    "num = 2\n",
    "num2 = 4\n",
    "\n",
    "sum = num + num2 \n",
    "print(sum)"
   ]
  },
  {
   "cell_type": "code",
   "execution_count": 3,
   "metadata": {},
   "outputs": [
    {
     "name": "stdout",
     "output_type": "stream",
     "text": [
      "<class 'int'>\n",
      "<class 'float'>\n",
      "(4+3j)\n",
      "<class 'complex'>\n"
     ]
    }
   ],
   "source": [
    "a = 1\n",
    "print(type(a))\n",
    "\n",
    "y = 5.35\n",
    "print(type(y))\n",
    "\n",
    "z = 4 + 3j\n",
    "print(z)\n",
    "print(type(z))"
   ]
  },
  {
   "cell_type": "code",
   "execution_count": 4,
   "metadata": {},
   "outputs": [
    {
     "name": "stdout",
     "output_type": "stream",
     "text": [
      "<class 'bool'>\n"
     ]
    }
   ],
   "source": [
    "isStudent = True\n",
    "print(type(isStudent))"
   ]
  },
  {
   "cell_type": "code",
   "execution_count": 5,
   "metadata": {},
   "outputs": [
    {
     "name": "stdout",
     "output_type": "stream",
     "text": [
      "['Jane Smith', 'John Doe', 'Bob James']\n",
      "<class 'list'>\n"
     ]
    }
   ],
   "source": [
    "my_list = ['Jane Smith', 'John Doe', 'Bob James']\n",
    "print(my_list)\n",
    "print(type(my_list))"
   ]
  },
  {
   "cell_type": "code",
   "execution_count": 6,
   "metadata": {},
   "outputs": [
    {
     "name": "stdout",
     "output_type": "stream",
     "text": [
      "('Jane Smith', 'John Doe', 'Bob James', 'Mel Kahn')\n",
      "<class 'tuple'>\n"
     ]
    }
   ],
   "source": [
    "my_tuple = ('Jane Smith', 'John Doe', 'Bob James', 'Mel Kahn')\n",
    "print(my_tuple)\n",
    "print(type(my_tuple))"
   ]
  },
  {
   "cell_type": "code",
   "execution_count": 7,
   "metadata": {},
   "outputs": [
    {
     "name": "stdout",
     "output_type": "stream",
     "text": [
      "[0, 1, 2, 3, 4, 5, 6, 7, 8, 9, 10, 11, 12, 13, 14]\n"
     ]
    }
   ],
   "source": [
    "my_range = range(15)\n",
    "print(list(my_range))"
   ]
  },
  {
   "cell_type": "code",
   "execution_count": 8,
   "metadata": {},
   "outputs": [
    {
     "name": "stdout",
     "output_type": "stream",
     "text": [
      "{'name': 'John Doe'}\n",
      "<class 'dict'>\n"
     ]
    }
   ],
   "source": [
    "my_dict = {\n",
    "    \"name\": \"John Doe\"\n",
    "}\n",
    "print(my_dict)\n",
    "print(type(my_dict))"
   ]
  },
  {
   "cell_type": "code",
   "execution_count": 9,
   "metadata": {},
   "outputs": [
    {
     "name": "stdout",
     "output_type": "stream",
     "text": [
      "<class 'set'>\n",
      "{'coffee', 'sugar', 'salt'}\n"
     ]
    }
   ],
   "source": [
    "my_set = {'sugar','salt','coffee'}\n",
    "print(type(my_set))\n",
    "print(my_set)"
   ]
  },
  {
   "cell_type": "code",
   "execution_count": 10,
   "metadata": {},
   "outputs": [
    {
     "name": "stdout",
     "output_type": "stream",
     "text": [
      "John\n",
      "John Doe\n",
      "John Doe\n",
      "Hi, my name is John\n",
      "<class 'str'>\n"
     ]
    }
   ],
   "source": [
    "first_name = 'John'\n",
    "last_name = 'Doe'\n",
    "\n",
    "full_name = first_name +\" \" + last_name\n",
    "full_name2 = f\"{first_name} {last_name}\"\n",
    "message = f\"Hi, my name is {first_name}\"\n",
    "print(first_name)\n",
    "print(full_name)\n",
    "print(full_name2)\n",
    "print(message)\n",
    "\n",
    "print(type(first_name))"
   ]
  },
  {
   "cell_type": "markdown",
   "metadata": {},
   "source": [
    "int"
   ]
  },
  {
   "cell_type": "code",
   "execution_count": 17,
   "metadata": {},
   "outputs": [
    {
     "name": "stdout",
     "output_type": "stream",
     "text": [
      "13\n",
      "7\n",
      "30\n",
      "3.3333333333333335\n",
      "3\n",
      "1\n",
      "1000\n",
      "8.0\n",
      "3.141592653589793\n",
      "3\n",
      "4\n",
      "27.0\n",
      "5.79\n",
      "1.4142\n"
     ]
    }
   ],
   "source": [
    "import math\n",
    "\n",
    "a = 10\n",
    "b = 3\n",
    "\n",
    "print(a + b)\n",
    "print(a - b)\n",
    "print(a * b)\n",
    "print(a / b)\n",
    "print(a // b)\n",
    "print(a % b)\n",
    "print(a ** b)\n",
    "\n",
    "print(math.sqrt(64))\n",
    "print(math.pi)\n",
    "print(math.floor(3.966373862))\n",
    "print(math.ceil(3.1))\n",
    "print(math.pow(3, 3))\n",
    "print(round(5.786756447334, 2))\n",
    "print(round(math.sqrt(2),4))"
   ]
  },
  {
   "cell_type": "code",
   "execution_count": 19,
   "metadata": {},
   "outputs": [
    {
     "name": "stdout",
     "output_type": "stream",
     "text": [
      "9.0\n"
     ]
    }
   ],
   "source": [
    "num1 = float(input('Enter first number: '))\n",
    "num2 = float(input('Enter second number: '))\n",
    "\n",
    "sum = num1 + num2\n",
    "print(sum)"
   ]
  },
  {
   "cell_type": "code",
   "execution_count": 22,
   "metadata": {},
   "outputs": [
    {
     "name": "stdout",
     "output_type": "stream",
     "text": [
      "Alvin Liltop\n"
     ]
    }
   ],
   "source": [
    "name1 = input('enter first name: ')\n",
    "name2 = input('enter second name: ')\n",
    "\n",
    "names = name1 + \" \" + name2\n",
    "print(names)"
   ]
  },
  {
   "cell_type": "code",
   "execution_count": 28,
   "metadata": {},
   "outputs": [
    {
     "name": "stdout",
     "output_type": "stream",
     "text": [
      "ALVIN WAHOME\n"
     ]
    }
   ],
   "source": [
    "e = \"alvin\"\n",
    "f = \"wahome\"\n",
    "ef =e.upper() +\" \" + f.upper()\n",
    "print(ef)\n"
   ]
  },
  {
   "cell_type": "code",
   "execution_count": null,
   "metadata": {},
   "outputs": [
    {
     "name": "stdout",
     "output_type": "stream",
     "text": [
      " HELLO PYTHON\n",
      " hello python\n",
      " Hello Python\n",
      " HELLO pYTHON\n",
      "True\n",
      "False\n",
      "True\n",
      "['red', ' blue', ' green', ' yellow']\n",
      "<class 'list'>\n",
      "['red', ' blue', ' green', ' yellow']\n",
      "red  blue  green  yellow\n",
      "Alvin is 49 years old.\n"
     ]
    }
   ],
   "source": [
    "str1 = ' hello Python'\n",
    "print(str1.upper())\n",
    "print(str1.lower())\n",
    "print(str1.title())\n",
    "print(str1.swapcase())\n",
    "\n",
    "str2 = '12ab'\n",
    "print(str2.isalnum())\n",
    "print(str2.isalpha())\n",
    "\n",
    "str3 = \" \"\n",
    "print(str3.isspace())\n",
    "\n",
    "colors = \"red, blue, green, yellow\".split(\",\")\n",
    "joined = \" \".join(colors)\n",
    "print(colors)\n",
    "print(type(colors))\n",
    "print(list(colors))\n",
    "print(joined)\n",
    "\n",
    "name = input(\"Enter your name: \")\n",
    "age = int(input(\"Enter your Age: \"))\n",
    "\n",
    "print(f\"{name} is {age} years\")"
   ]
  },
  {
   "cell_type": "code",
   "execution_count": 58,
   "metadata": {},
   "outputs": [
    {
     "name": "stdout",
     "output_type": "stream",
     "text": [
      "Hello there,\n",
      "\"How are you?\"\n"
     ]
    }
   ],
   "source": [
    "s = \"Hello there,\\n\\\"How are you?\\\"\"\n",
    "print(s)"
   ]
  },
  {
   "cell_type": "code",
   "execution_count": 59,
   "metadata": {},
   "outputs": [
    {
     "name": "stdout",
     "output_type": "stream",
     "text": [
      "Alvin  Welcome \n"
     ]
    }
   ],
   "source": [
    "func1 = input(\"Enter your name: \")\n",
    "func2 =\" Welcome \"\n",
    "func3 = func1 + \" \" + func2\n",
    "\n",
    "print(func3)"
   ]
  },
  {
   "cell_type": "code",
   "execution_count": 64,
   "metadata": {},
   "outputs": [
    {
     "name": "stdout",
     "output_type": "stream",
     "text": [
      "1530.0\n",
      "39.12\n"
     ]
    }
   ],
   "source": [
    "hours = float(input(\"enter hours: \"))\n",
    "rate = float(input(\"enter your rate: \"))\n",
    "pay = (hours * rate)\n",
    "print(pay)\n",
    "print(round(math.sqrt(pay),2))"
   ]
  },
  {
   "cell_type": "code",
   "execution_count": 69,
   "metadata": {},
   "outputs": [
    {
     "name": "stdout",
     "output_type": "stream",
     "text": [
      "<class 'int'>\n",
      "<class 'float'>\n",
      "<class 'int'>\n",
      "<class 'float'>\n",
      "<class 'float'>\n",
      "11\n"
     ]
    }
   ],
   "source": [
    "width = 17\n",
    "height = 12.0\n",
    "\n",
    "print(type(width))\n",
    "print(type(height))\n",
    "\n",
    "p=width//2\n",
    "print(type(p))\n",
    "\n",
    "t=width/2.0\n",
    "print(type(t))\n",
    "\n",
    "o=height/3\n",
    "print(type(o))\n",
    "\n",
    "num56=1 + 2 * 5\n",
    "print(num56)"
   ]
  },
  {
   "cell_type": "code",
   "execution_count": 79,
   "metadata": {},
   "outputs": [
    {
     "name": "stdout",
     "output_type": "stream",
     "text": [
      "your are a adult\n"
     ]
    }
   ],
   "source": [
    "age =21\n",
    "if age < 13 :\n",
    "    print(\"your are a child\")\n",
    "elif age < 20:\n",
    "    print(\"your are a teenager\")\n",
    "else:\n",
    "    print(\"your are a adult\" )"
   ]
  },
  {
   "cell_type": "code",
   "execution_count": 80,
   "metadata": {},
   "outputs": [
    {
     "name": "stdout",
     "output_type": "stream",
     "text": [
      "0\n",
      "1\n",
      "2\n",
      "3\n",
      "4\n",
      "5\n"
     ]
    }
   ],
   "source": [
    "for i in range(6):\n",
    "    print(i)\n"
   ]
  },
  {
   "cell_type": "code",
   "execution_count": 83,
   "metadata": {},
   "outputs": [
    {
     "name": "stdout",
     "output_type": "stream",
     "text": [
      "Kasongo\n",
      "Kasongo\n",
      "Kasongo\n"
     ]
    }
   ],
   "source": [
    "n = int(input(\"How many times to say Kasongo: \"))\n",
    "for i in range(n):\n",
    "    print(\"Kasongo\")"
   ]
  },
  {
   "cell_type": "code",
   "execution_count": 85,
   "metadata": {},
   "outputs": [
    {
     "name": "stdout",
     "output_type": "stream",
     "text": [
      "Access Granted!!\n",
      "Access Granted!!\n"
     ]
    }
   ],
   "source": [
    "password = \" \"\n",
    "while password != \"pass123#\":\n",
    "    password =input(\"Enter password: \")\n",
    "\n",
    "    print(\"Access Granted!!\")\n",
    "\n"
   ]
  }
 ],
 "metadata": {
  "kernelspec": {
   "display_name": "virtual",
   "language": "python",
   "name": "python3"
  },
  "language_info": {
   "codemirror_mode": {
    "name": "ipython",
    "version": 3
   },
   "file_extension": ".py",
   "mimetype": "text/x-python",
   "name": "python",
   "nbconvert_exporter": "python",
   "pygments_lexer": "ipython3",
   "version": "3.13.2"
  }
 },
 "nbformat": 4,
 "nbformat_minor": 2
}

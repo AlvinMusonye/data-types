{
 "cells": [
  {
   "cell_type": "markdown",
   "metadata": {},
   "source": [
    "Write a program that generates a random number between 1 and 100. The user has to guess the number in a limited number of attempts. Provide feedback after each guess (higher, lower, or correct)."
   ]
  },
  {
   "cell_type": "code",
   "execution_count": null,
   "metadata": {},
   "outputs": [
    {
     "name": "stdout",
     "output_type": "stream",
     "text": [
      "Guess the number (1-100)! You have 5 tries.\n",
      "Too high!\n",
      "Too high!\n",
      "Too high!\n",
      "Too high!\n",
      "Too low!\n",
      "Out of tries bro. The number was: 9\n"
     ]
    }
   ],
   "source": [
    "import random\n",
    "\n",
    "number = random.randint(1, 100)\n",
    "attempts = 4\n",
    "\n",
    "print(\"Guess the number (1-100)! You have\", attempts, \"tries.\")\n",
    "\n",
    "while attempts > 0:\n",
    "    guess = int(input(\"Enter your guess: \"))\n",
    "    \n",
    "    if guess == number:\n",
    "        print(\"Correct! You guessed it!\")\n",
    "        break\n",
    "    elif guess < number:\n",
    "        print(\"Too low!\")\n",
    "    else:\n",
    "        print(\"Too high!\")\n",
    "    \n",
    "    attempts -= 1\n",
    "\n",
    "if attempts == 0:\n",
    "    print(\"Out of tries bro. The number was:\", number)\n"
   ]
  },
  {
   "cell_type": "markdown",
   "metadata": {},
   "source": [
    "Write a program that allows the user to enter two numbers and an operator (+, -, *, /) and perform the corresponding calculation. Use conditional statements to handle different operators"
   ]
  },
  {
   "cell_type": "code",
   "execution_count": 6,
   "metadata": {},
   "outputs": [
    {
     "name": "stdout",
     "output_type": "stream",
     "text": [
      "Calculator\n",
      "10.0\n"
     ]
    }
   ],
   "source": [
    "print(\"Calculator\")\n",
    "\n",
    "num1 = float(input(\"Enter any number: \"))\n",
    "operator = input(\"Enter operator (+, -, *, /): \")\n",
    "num2 = float(input(\"Enter second number: \"))\n",
    "\n",
    "if operator == '+':\n",
    "    print(num1 + num2)\n",
    "elif operator == '-':\n",
    "    print(num1 - num2)\n",
    "elif operator == '*':\n",
    "    print(num1 * num2)\n",
    "elif operator == '/':\n",
    "    if num2 != 0:\n",
    "        print(\"Result:\", num1 / num2)\n",
    "    else:\n",
    "        print(\" Cannot divide by zero.\")\n",
    "else:\n",
    "    print(\"Invalid operator.\")            "
   ]
  },
  {
   "cell_type": "markdown",
   "metadata": {},
   "source": [
    "Write a program that uses a while loop to check if a number entered by the user is a prime number (divisible only by 1 and itself)."
   ]
  },
  {
   "cell_type": "code",
   "execution_count": 9,
   "metadata": {},
   "outputs": [
    {
     "name": "stdout",
     "output_type": "stream",
     "text": [
      "9 is not a prime number.\n"
     ]
    }
   ],
   "source": [
    "def is_prime(number):\n",
    "  if number > 1:\n",
    "    for i in range(2,number):\n",
    "      if (number % i) == 0:\n",
    "        return False\n",
    "    return True\n",
    "  else:\n",
    "    return False\n",
    "\n",
    "\n",
    "number = int(input(\"Enter a number to check: \"))\n",
    "\n",
    "\n",
    "if is_prime(number):\n",
    "  print(f\"{number} is a prime number.\")\n",
    "else:\n",
    "  print(f\"{number} is not a prime number.\")"
   ]
  },
  {
   "cell_type": "markdown",
   "metadata": {},
   "source": [
    "Write a program that uses a for loop to print the multiplication table of a number entered by the user (up to a specified number of multiples)."
   ]
  },
  {
   "cell_type": "code",
   "execution_count": 10,
   "metadata": {},
   "outputs": [
    {
     "name": "stdout",
     "output_type": "stream",
     "text": [
      "5  *  1  =  5\n",
      "5  *  2  =  10\n",
      "5  *  3  =  15\n",
      "5  *  4  =  20\n",
      "5  *  5  =  25\n"
     ]
    }
   ],
   "source": [
    "ourNum = int(input(\"Enter the number you want to generate a multiplication table for: \"))\n",
    "ourRange = range(1,6)\n",
    "for x in ourRange:\n",
    "    result = ourNum * x\n",
    "    print(ourNum,\" * \",x,\" = \",result)"
   ]
  },
  {
   "cell_type": "markdown",
   "metadata": {},
   "source": [
    "Write a program that uses a for loop to calculate the sum of numbers from 1 to a given number entered by the user."
   ]
  },
  {
   "cell_type": "code",
   "execution_count": 12,
   "metadata": {},
   "outputs": [
    {
     "name": "stdout",
     "output_type": "stream",
     "text": [
      "6\n"
     ]
    }
   ],
   "source": [
    "num = int(input(\"Enter a number: \"))\n",
    "total_sum = 0\n",
    "\n",
    "for nums in range(1, num + 1):\n",
    "    total_sum += nums\n",
    "    \n",
    "print(total_sum)"
   ]
  },
  {
   "cell_type": "markdown",
   "metadata": {},
   "source": [
    "Write a program that uses a for loop to print a pattern of stars or characters like a triangle."
   ]
  },
  {
   "cell_type": "code",
   "execution_count": 13,
   "metadata": {},
   "outputs": [
    {
     "name": "stdout",
     "output_type": "stream",
     "text": [
      " traingle\n",
      " traingle traingle\n",
      " traingle traingle traingle\n",
      " traingle traingle traingle traingle\n",
      " traingle traingle traingle traingle traingle\n"
     ]
    }
   ],
   "source": [
    "character = input(\"Enter a Character: \")\n",
    "\n",
    "for i in range(5):\n",
    "    print(f' {character}' * (i+1))"
   ]
  },
  {
   "cell_type": "markdown",
   "metadata": {},
   "source": [
    "functions"
   ]
  },
  {
   "cell_type": "code",
   "execution_count": 14,
   "metadata": {},
   "outputs": [
    {
     "name": "stdout",
     "output_type": "stream",
     "text": [
      "Hello , world!!\n"
     ]
    }
   ],
   "source": [
    "def greet():\n",
    "    print(\"Hello , world!!\")\n",
    "greet()    "
   ]
  },
  {
   "cell_type": "code",
   "execution_count": 15,
   "metadata": {},
   "outputs": [
    {
     "name": "stdout",
     "output_type": "stream",
     "text": [
      "hello, John\n"
     ]
    }
   ],
   "source": [
    "def greeting(name):\n",
    "    print(f\"hello, {name}\")\n",
    "\n",
    "greeting(\"John\")    "
   ]
  },
  {
   "cell_type": "code",
   "execution_count": 17,
   "metadata": {},
   "outputs": [
    {
     "name": "stdout",
     "output_type": "stream",
     "text": [
      "hello, John\n",
      "hello, Guest\n"
     ]
    }
   ],
   "source": [
    "def greeting(name=\"Guest\"):\n",
    "    print(f\"hello, {name}\")\n",
    "\n",
    "greeting(\"John\") \n",
    "greeting()  "
   ]
  },
  {
   "cell_type": "code",
   "execution_count": 19,
   "metadata": {},
   "outputs": [
    {
     "name": "stdout",
     "output_type": "stream",
     "text": [
      "hello, Alvin\n",
      "hello, Guest\n"
     ]
    }
   ],
   "source": [
    "def greeting(name=\"Guest\"):\n",
    "    print(f\"hello, {name}\")\n",
    "\n",
    "name = input(\"What is your name? \")\n",
    "greeting(name) \n",
    "greeting()  "
   ]
  },
  {
   "cell_type": "code",
   "execution_count": 20,
   "metadata": {},
   "outputs": [
    {
     "name": "stdout",
     "output_type": "stream",
     "text": [
      "sum: 9\n"
     ]
    }
   ],
   "source": [
    "def add(num1,num2):\n",
    "    return num1 + num2\n",
    "sum = add(3,6)\n",
    "print(\"sum:\", sum)"
   ]
  },
  {
   "cell_type": "code",
   "execution_count": 22,
   "metadata": {},
   "outputs": [
    {
     "name": "stdout",
     "output_type": "stream",
     "text": [
      "Bob is 60 years old\n",
      "Melivia is 20 years old\n"
     ]
    }
   ],
   "source": [
    "def account(name, age):\n",
    "    print(f\"{name} is {age} years old\")\n",
    "\n",
    "account(\"Bob\", 60)  \n",
    "account(age=20, name=\"Melivia\")  "
   ]
  }
 ],
 "metadata": {
  "kernelspec": {
   "display_name": "virtual",
   "language": "python",
   "name": "python3"
  },
  "language_info": {
   "codemirror_mode": {
    "name": "ipython",
    "version": 3
   },
   "file_extension": ".py",
   "mimetype": "text/x-python",
   "name": "python",
   "nbconvert_exporter": "python",
   "pygments_lexer": "ipython3",
   "version": "3.13.2"
  }
 },
 "nbformat": 4,
 "nbformat_minor": 2
}

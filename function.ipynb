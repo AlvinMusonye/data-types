{
 "cells": [
  {
   "cell_type": "markdown",
   "metadata": {},
   "source": [
    "continuation\n"
   ]
  },
  {
   "cell_type": "code",
   "execution_count": 1,
   "metadata": {},
   "outputs": [
    {
     "name": "stdout",
     "output_type": "stream",
     "text": [
      "Sum is:  9\n"
     ]
    }
   ],
   "source": [
    "def sum_of_numbers(*numbers): #*args\n",
    "    print(\"Sum is: \", sum(numbers))\n",
    "\n",
    "sum_of_numbers(2,3,4)  "
   ]
  },
  {
   "cell_type": "code",
   "execution_count": 2,
   "metadata": {},
   "outputs": [
    {
     "name": "stdout",
     "output_type": "stream",
     "text": [
      "name: Jane\n",
      "age: 19\n",
      "gender: female\n",
      "city: Nairobi\n"
     ]
    }
   ],
   "source": [
    "def print_info(**info): # **kwargs\n",
    "    for key, value in info.items():\n",
    "        print(f\"{key}: {value}\")\n",
    "\n",
    "print_info(name=\"Jane\", age=19, gender=\"female\", city=\"Nairobi\")"
   ]
  },
  {
   "cell_type": "code",
   "execution_count": 7,
   "metadata": {},
   "outputs": [
    {
     "name": "stdout",
     "output_type": "stream",
     "text": [
      "36\n",
      "28\n",
      "False\n",
      "True\n"
     ]
    },
    {
     "name": "stdout",
     "output_type": "stream",
     "text": [
      "Double: 14\n"
     ]
    }
   ],
   "source": [
    "square = lambda x: x * x\n",
    "print(square(6))\n",
    "\n",
    "\n",
    "multiply = lambda a, b: a * b\n",
    "print(multiply(4, 7))\n",
    "\n",
    "is_even = lambda x: x % 2 == 0\n",
    "print(is_even(3))\n",
    "print(is_even(4))\n",
    "\n",
    "double = lambda y: y * 2\n",
    "num = int(input(\"Enter a number: \"))\n",
    "print(\"Double:\", double(num))"
   ]
  },
  {
   "cell_type": "code",
   "execution_count": 10,
   "metadata": {},
   "outputs": [
    {
     "name": "stdout",
     "output_type": "stream",
     "text": [
      "Square of 8 is 64\n"
     ]
    }
   ],
   "source": [
    "def square(x):\n",
    "    return x * x\n",
    "\n",
    "def display_square(n):\n",
    "    result = square(n)\n",
    "    print(f\"Square of {n} is {result}\")\n",
    "\n",
    "display_square(8)   "
   ]
  },
  {
   "cell_type": "markdown",
   "metadata": {},
   "source": [
    "A simple calculator"
   ]
  },
  {
   "cell_type": "code",
   "execution_count": 13,
   "metadata": {},
   "outputs": [
    {
     "name": "stdout",
     "output_type": "stream",
     "text": [
      "Invalid operation..\n"
     ]
    }
   ],
   "source": [
    "def add(a, b):\n",
    "    return a + b\n",
    "def sub(a, b):\n",
    "    return a - b\n",
    "def mul(a, b):\n",
    "    return a * b\n",
    "def div(a, b):\n",
    "    return a / b\n",
    "def sub(a, b):\n",
    "    return a /b if b != 0 else \"Cannot divide by zero\"\n",
    "\n",
    "a = float(input(\"Enter first number: \"))\n",
    "b = float(input(\"Enter second number: \"))\n",
    "op = input(\"Choose operation( +, -, *, /)\")\n",
    "\n",
    "if op == \"+\":\n",
    "    print(\"Result:\", add(a, b))\n",
    "\n",
    "elif op == \"-\":\n",
    "    print(\"Result:\", sub(a, b))   \n",
    "\n",
    "elif op == \"*\":\n",
    "    print(\"Result:\", mul(a, b))  \n",
    "\n",
    "elif op == \"/\":\n",
    "    print(\"Result:\", div(a, b)) \n",
    "\n",
    "else:\n",
    "    print(\"Invalid operation..\")         \n"
   ]
  },
  {
   "cell_type": "markdown",
   "metadata": {},
   "source": [
    "Area of a circle"
   ]
  },
  {
   "cell_type": "code",
   "execution_count": 15,
   "metadata": {},
   "outputs": [
    {
     "name": "stdout",
     "output_type": "stream",
     "text": [
      "Area of circle with radius 7: 153.93804002589985\n"
     ]
    }
   ],
   "source": [
    "from math import pi\n",
    "\n",
    "radius = 7\n",
    "area = pi * radius**2\n",
    "print(f\"Area of circle with radius {radius}: {area}\")\n"
   ]
  },
  {
   "cell_type": "markdown",
   "metadata": {},
   "source": [
    "positive and negative numbers"
   ]
  },
  {
   "cell_type": "code",
   "execution_count": 16,
   "metadata": {},
   "outputs": [
    {
     "name": "stdout",
     "output_type": "stream",
     "text": [
      "6 is positive.\n"
     ]
    }
   ],
   "source": [
    "\n",
    "number = int(input(\"Enter a number : \"))\n",
    "\n",
    "\n",
    "if number>0:\n",
    "  print(number, \"is positive.\")\n",
    "elif number<0:\n",
    "  print(number, \"is negative.\")\n",
    "else:\n",
    "  print(\"Number is 0.\")"
   ]
  },
  {
   "cell_type": "markdown",
   "metadata": {},
   "source": [
    "Area of square"
   ]
  },
  {
   "cell_type": "code",
   "execution_count": 18,
   "metadata": {},
   "outputs": [
    {
     "name": "stdout",
     "output_type": "stream",
     "text": [
      "Area of a square is 49\n"
     ]
    }
   ],
   "source": [
    "length = int(input(\"Enter Length of the side: \"))\n",
    "Area = length**2\n",
    "print(f\"Area of a square is {Area}\")"
   ]
  },
  {
   "cell_type": "markdown",
   "metadata": {},
   "source": [
    "Area of A Rectangle"
   ]
  },
  {
   "cell_type": "code",
   "execution_count": 19,
   "metadata": {},
   "outputs": [
    {
     "name": "stdout",
     "output_type": "stream",
     "text": [
      "357\n"
     ]
    }
   ],
   "source": [
    "# height * width\n",
    "\n",
    "height = 17\n",
    "width = 21\n",
    "\n",
    "area = height * width\n",
    "print(area)\n",
    "\n"
   ]
  }
 ],
 "metadata": {
  "kernelspec": {
   "display_name": "virtual",
   "language": "python",
   "name": "python3"
  },
  "language_info": {
   "codemirror_mode": {
    "name": "ipython",
    "version": 3
   },
   "file_extension": ".py",
   "mimetype": "text/x-python",
   "name": "python",
   "nbconvert_exporter": "python",
   "pygments_lexer": "ipython3",
   "version": "3.13.2"
  }
 },
 "nbformat": 4,
 "nbformat_minor": 2
}
